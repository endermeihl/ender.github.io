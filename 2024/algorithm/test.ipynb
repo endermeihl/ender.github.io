{
 "cells": [
  {
   "cell_type": "code",
   "execution_count": 3,
   "metadata": {},
   "outputs": [
    {
     "name": "stdout",
     "output_type": "stream",
     "text": [
      "121\n",
      "1\n",
      "12\n",
      "12\n",
      "1\n",
      "121\n"
     ]
    },
    {
     "data": {
      "text/plain": [
       "True"
      ]
     },
     "execution_count": 3,
     "metadata": {},
     "output_type": "execute_result"
    }
   ],
   "source": [
    "def isPalindrome(x: int) -> bool:\n",
    "    if x < 0:\n",
    "        return False\n",
    "    temp = x\n",
    "    y = 0\n",
    "    while temp > 0:\n",
    "        print(temp)\n",
    "        y = y * 10 + temp % 10\n",
    "        print(y)\n",
    "        temp = int(temp / 10)\n",
    "    if x == y:\n",
    "        return True\n",
    "    return False\n",
    "\n",
    "isPalindrome(121)"
   ]
  },
  {
   "cell_type": "code",
   "execution_count": 19,
   "metadata": {},
   "outputs": [
    {
     "data": {
      "text/plain": [
       "58"
      ]
     },
     "execution_count": 19,
     "metadata": {},
     "output_type": "execute_result"
    }
   ],
   "source": [
    "def romanToInt(s: str) -> int:\n",
    "    nums={'I':1,'V':5,'X':10,'L':50,'C':100,'D':500,'M':1000}\n",
    "    nums2={'IV':4,'IX':9,'XL':40,'XC':90,'CD':400,'CM':900}\n",
    "    result=0\n",
    "    le=len(s)\n",
    "    i=0\n",
    "    while i<le:\n",
    "        if i+1<le:\n",
    "            if s[i]+s[i+1] in nums2:\n",
    "                result=result+nums2[s[i]+s[i+1]]\n",
    "                i=i+2\n",
    "            else:\n",
    "                result=result+nums[s[i]]\n",
    "                i+=1\n",
    "        else:\n",
    "            result=result+nums[s[i]]\n",
    "            i+=1\n",
    "    return result\n",
    "romanToInt(\"LVIII\")"
   ]
  }
 ],
 "metadata": {
  "kernelspec": {
   "display_name": "Python 3",
   "language": "python",
   "name": "python3"
  },
  "language_info": {
   "codemirror_mode": {
    "name": "ipython",
    "version": 3
   },
   "file_extension": ".py",
   "mimetype": "text/x-python",
   "name": "python",
   "nbconvert_exporter": "python",
   "pygments_lexer": "ipython3",
   "version": "3.11.6"
  }
 },
 "nbformat": 4,
 "nbformat_minor": 2
}
