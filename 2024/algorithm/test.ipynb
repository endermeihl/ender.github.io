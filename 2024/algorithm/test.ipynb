{
 "cells": [
  {
   "cell_type": "code",
   "execution_count": 5,
   "metadata": {},
   "outputs": [
    {
     "name": "stdout",
     "output_type": "stream",
     "text": [
      "121\n",
      "1\n",
      "12\n",
      "12\n",
      "1\n",
      "121\n"
     ]
    },
    {
     "data": {
      "text/plain": [
       "True"
      ]
     },
     "execution_count": 5,
     "metadata": {},
     "output_type": "execute_result"
    }
   ],
   "source": [
    "def isPalindrome(x: int) -> bool:\n",
    "    if x < 0:\n",
    "        return False\n",
    "    temp = x\n",
    "    y = 0\n",
    "    while temp > 0:\n",
    "        print(temp)\n",
    "        y = y * 10 + temp % 10\n",
    "        print(y)\n",
    "        temp = int(temp / 10)\n",
    "    if x == y:\n",
    "        return True\n",
    "    return False\n",
    "\n",
    "isPalindrome(121)"
   ]
  },
  {
   "cell_type": "code",
   "execution_count": 6,
   "metadata": {},
   "outputs": [
    {
     "data": {
      "text/plain": [
       "58"
      ]
     },
     "execution_count": 6,
     "metadata": {},
     "output_type": "execute_result"
    }
   ],
   "source": [
    "def romanToInt(s: str) -> int:\n",
    "    nums={'I':1,'V':5,'X':10,'L':50,'C':100,'D':500,'M':1000}\n",
    "    nums2={'IV':4,'IX':9,'XL':40,'XC':90,'CD':400,'CM':900}\n",
    "    result=0\n",
    "    le=len(s)\n",
    "    i=0\n",
    "    while i<le:\n",
    "        if i+1<le:\n",
    "            if s[i]+s[i+1] in nums2:\n",
    "                result=result+nums2[s[i]+s[i+1]]\n",
    "                i=i+2\n",
    "            else:\n",
    "                result=result+nums[s[i]]\n",
    "                i+=1\n",
    "        else:\n",
    "            result=result+nums[s[i]]\n",
    "            i+=1\n",
    "    return result\n",
    "romanToInt(\"LVIII\")"
   ]
  },
  {
   "cell_type": "code",
   "execution_count": 7,
   "metadata": {},
   "outputs": [
    {
     "name": "stdout",
     "output_type": "stream",
     "text": [
      "res:\n",
      "temp:f\n",
      "res:f\n",
      "temp:fl\n",
      "res:fl\n",
      "temp:flo\n",
      "res:flo\n",
      "temp:flow\n",
      "res:flow\n",
      "temp:flowe\n",
      "flow\n",
      "flow\n"
     ]
    },
    {
     "data": {
      "text/plain": [
       "'flow'"
      ]
     },
     "execution_count": 7,
     "metadata": {},
     "output_type": "execute_result"
    }
   ],
   "source": [
    "\n",
    "\n",
    "from typing import List\n",
    "\n",
    "\n",
    "def longestCommonPrefix(strs: List[str]) -> str:\n",
    "    if len(strs)==1:\n",
    "        return strs[0]\n",
    "    res=\"\"\n",
    "    for i in range(len(strs[0])):\n",
    "        temp=strs[0][0:i+1]\n",
    "        print(\"res:\"+res)\n",
    "        print(\"temp:\"+temp)\n",
    "        for j in range(len(strs)):\n",
    "            if i>len(strs[j]) or temp!=strs[j][0:i+1]:\n",
    "                print(strs[j][0:i])\n",
    "                print(res)\n",
    "                return res\n",
    "        res=temp\n",
    "    return res\n",
    "\n",
    "longestCommonPrefix([\"flower\",\"flower\",\"flowr\",\"flower\"])"
   ]
  },
  {
   "cell_type": "code",
   "execution_count": 1,
   "metadata": {},
   "outputs": [
    {
     "data": {
      "text/plain": [
       "False"
      ]
     },
     "execution_count": 1,
     "metadata": {},
     "output_type": "execute_result"
    }
   ],
   "source": [
    "def isValid(s: str) -> bool:\n",
    "    temp={\"(\":\")\",\"{\":\"}\",\"[\":\"]\"}\n",
    "    res=[]\n",
    "    if len(s)%2!=0:\n",
    "        return False\n",
    "    for i in range(len(s)):\n",
    "        if s[i] in temp:\n",
    "            res.append(temp[s[i]])\n",
    "        elif len(res)==0 or res.pop()!=s[i]:\n",
    "            return False\n",
    "    if len(res)==0:\n",
    "        return True\n",
    "    return False\n",
    "\n",
    "isValid(\"()(){]\")"
   ]
  },
  {
   "cell_type": "code",
   "execution_count": null,
   "metadata": {},
   "outputs": [],
   "source": [
    "from typing import Optional\n",
    "\n",
    "\n",
    "class ListNode:\n",
    "    def __init__(self, val=0, next=None):\n",
    "        self.val = val\n",
    "        self.next = next\n",
    "\n",
    "def mergeTwoLists(self, list1: Optional[ListNode], list2: Optional[ListNode]) -> Optional[ListNode]:\n",
    "    res=ListNode()\n",
    "    temp=res\n",
    "    while list1 is not None and list2 is not None:\n",
    "        if list1.val<=list2.val:\n",
    "            res.val=list1.val\n",
    "            list1=list1.next\n",
    "        else:\n",
    "            res.val=list2.val\n",
    "            list2=list2.next\n",
    "        res.next=ListNode()\n",
    "        res=res.next\n",
    "    while list1.next is not None:\n",
    "        res.val=list1.val\n",
    "        list1=list1.next\n",
    "        res.next=ListNode()\n",
    "        res=res.next\n",
    "    while list2.next is not None:\n",
    "        res.val=list2.val\n",
    "        list2=list2.next\n",
    "        res.next=ListNode()\n",
    "        res=res.next\n",
    "    return temp\n",
    "\n",
    "\n"
   ]
  },
  {
   "cell_type": "code",
   "execution_count": 4,
   "metadata": {},
   "outputs": [
    {
     "data": {
      "text/plain": [
       "5"
      ]
     },
     "execution_count": 4,
     "metadata": {},
     "output_type": "execute_result"
    }
   ],
   "source": [
    "from typing import List\n",
    "def removeDuplicates( nums: List[int]) -> int:\n",
    "    temp={}\n",
    "    copied_nums=nums[:]\n",
    "    for i in range(len(nums)):\n",
    "        temp[copied_nums[i]] = temp.get(copied_nums[i], 0) + 1\n",
    "        if temp[copied_nums[i]]>1:\n",
    "            nums.remove(copied_nums[i])\n",
    "            temp[copied_nums[i]]=1\n",
    "    return len(nums)\n",
    "\n",
    "removeDuplicates([0,0,1,1,1,2,2,3,3,4])"
   ]
  },
  {
   "cell_type": "code",
   "execution_count": 2,
   "metadata": {},
   "outputs": [
    {
     "data": {
      "text/plain": [
       "2"
      ]
     },
     "execution_count": 2,
     "metadata": {},
     "output_type": "execute_result"
    }
   ],
   "source": [
    "from typing import List \n",
    "\n",
    "def removeElement(nums: List[int], val: int) -> int:\n",
    "        res=0\n",
    "        l = len(nums)\n",
    "        n =0 \n",
    "        while n <l-res: \n",
    "            if nums[n]!=val:\n",
    "                n+=1\n",
    "                continue\n",
    "            else:\n",
    "                for m in range(n,l-res-1):\n",
    "                    b=nums[m+1]\n",
    "                    nums[m+1]=nums[m]\n",
    "                    nums[m]=b\n",
    "                res+=1\n",
    "                n+=1\n",
    "        return l-res\n",
    "\n",
    "removeElement([3,2,2,3],3)"
   ]
  },
  {
   "cell_type": "code",
   "execution_count": 1,
   "metadata": {},
   "outputs": [
    {
     "data": {
      "text/plain": [
       "0"
      ]
     },
     "execution_count": 1,
     "metadata": {},
     "output_type": "execute_result"
    }
   ],
   "source": [
    "def strStr(haystack: str, needle: str) -> int:\n",
    "        m = len(needle)\n",
    "        for n in range(0,len(haystack)):\n",
    "            if haystack[n:n+m]==needle:\n",
    "                return n\n",
    "        return -1\n",
    "\n",
    "strStr(\"sadbutsad\",\"sad\")"
   ]
  },
  {
   "cell_type": "code",
   "execution_count": 1,
   "metadata": {},
   "outputs": [
    {
     "data": {
      "text/plain": [
       "1"
      ]
     },
     "execution_count": 1,
     "metadata": {},
     "output_type": "execute_result"
    }
   ],
   "source": [
    "from typing import List\n",
    "\n",
    "def searchInsert(nums: List[int], target: int) -> int:\n",
    "        n=0\n",
    "        m=len(nums)-1\n",
    "        if nums[n]>target:\n",
    "            return n\n",
    "        if nums[m]<target:\n",
    "            return m\n",
    "        while n<m and n!=m-1:\n",
    "            middle=int((n+m)/2)\n",
    "            if target==nums[middle]:\n",
    "                return middle\n",
    "            elif target<nums[middle]:\n",
    "                m=middle\n",
    "            else:\n",
    "                n=middle\n",
    "        return m\n",
    "\n",
    "searchInsert([1,3,5,6],2)"
   ]
  },
  {
   "cell_type": "code",
   "execution_count": null,
   "metadata": {},
   "outputs": [],
   "source": [
    "from typing import List\n",
    "\n",
    "def addBinary(a: str, b: str) -> str:\n",
    "        n = len(a)-1\n",
    "        m = len(b)-1\n",
    "        res=\"\"\n",
    "        temp=0\n",
    "        while n>=0 and m>=0:\n",
    "            res=str((int(a[n])+int(b[m])+temp)%2)+res\n",
    "            temp=int((int(a[n])+int(b[m])+temp)/10)\n",
    "            n-=1\n",
    "            m-=1\n",
    "        while n>=0:\n",
    "            res=str((int(a[n])+temp)%2)+res\n",
    "            temp=int((int(a[n])+temp)/10)\n",
    "            n-=1\n",
    "        while m>=0:\n",
    "            res=str((int(b[m])+temp)%2)+res\n",
    "            temp=int((int(b[m])+temp)/10)\n",
    "            m-=1\n",
    "        if temp!=0:\n",
    "            res=\"1\"+res\n",
    "        return res\n",
    "\n",
    "addBinary(\"11\",\"1\")"
   ]
  }
 ],
 "metadata": {
  "kernelspec": {
   "display_name": "Python 3",
   "language": "python",
   "name": "python3"
  },
  "language_info": {
   "codemirror_mode": {
    "name": "ipython",
    "version": 3
   },
   "file_extension": ".py",
   "mimetype": "text/x-python",
   "name": "python",
   "nbconvert_exporter": "python",
   "pygments_lexer": "ipython3",
   "version": "3.11.6"
  }
 },
 "nbformat": 4,
 "nbformat_minor": 2
}
